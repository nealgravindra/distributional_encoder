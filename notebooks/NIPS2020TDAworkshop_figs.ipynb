{
 "cells": [
  {
   "cell_type": "code",
   "execution_count": 1,
   "metadata": {},
   "outputs": [],
   "source": [
    "%matplotlib inline\n",
    "\n",
    "import os\n",
    "import sys\n",
    "import pandas as pd\n",
    "import glob\n",
    "import time\n",
    "import seaborn as sns\n",
    "import matplotlib.pyplot as plt\n",
    "import numpy as np\n",
    "from scipy import stats\n",
    "\n",
    "import torch\n",
    "import torch.nn as nn\n",
    "\n",
    "plt.rc('font', size = 8)\n",
    "plt.rc('font', family='sans serif')\n",
    "plt.rcParams['pdf.fonttype']=42\n",
    "plt.rcParams['ps.fonttype']=42\n",
    "plt.rcParams['legend.frameon']=False\n",
    "sns.set_style(\"ticks\")\n",
    "\n",
    "savefigs = True\n",
    "pfp = '/home/ngr4/project/dist_encoder/results/'"
   ]
  },
  {
   "cell_type": "code",
   "execution_count": 3,
   "metadata": {},
   "outputs": [],
   "source": [
    "# make example distributions\n",
    "# generate data\n",
    "\n",
    "dist_type = []\n",
    "set_dist = []\n",
    "for i in range(1): \n",
    "    x = torch.rand(500,1)\n",
    "    set_dist.append(x)\n",
    "    dist_type.append('Random')\n",
    "\n",
    "    \n",
    "# for i in range(3): \n",
    "#     m = torch.distributions.beta.Beta(torch.tensor([.2]), torch.tensor([.7]))\n",
    "#     x = m.sample([500])\n",
    "#     set_dist.append(x)\n",
    "#     dist_type.append('Beta')\n",
    "    \n",
    "for i in range(1): \n",
    "    m = torch.distributions.exponential.Exponential(torch.tensor([2.5]))\n",
    "    x = m.sample([500])\n",
    "    set_dist.append(x)\n",
    "    dist_type.append('Exponential')\n",
    "    \n",
    "# for i in range(5): \n",
    "#     m = torch.distributions.gamma.Gamma(torch.tensor([1.0]), torch.tensor([1.5]))\n",
    "#     x = m.sample([500])\n",
    "#     set_dist.append(x)\n",
    "#     dist_type.append('Gamma')\n",
    "    \n",
    "# for i in range(5): \n",
    "#     m = torch.distributions.laplace.Laplace(torch.tensor([.5]), torch.tensor([1.0]))\n",
    "#     x = m.sample([500])\n",
    "#     set_dist.append(x)\n",
    "#     dist_type.append('Laplace')\n",
    "    \n",
    "# for i in range(5): \n",
    "#     m = torch.distributions.log_normal.LogNormal(torch.tensor([0.0]), torch.tensor([0.5]))\n",
    "#     x = m.sample([500])\n",
    "#     set_dist.append(x)\n",
    "#     dist_type.append('LogNormal')\n",
    "\n",
    "    \n",
    "for i in range(1): \n",
    "    m = torch.distributions.normal.Normal(torch.tensor([0.0]), torch.tensor([1.0]))\n",
    "    x = m.sample([500])\n",
    "    set_dist.append(x)   \n",
    "    dist_type.append('Normal')\n",
    "    \n",
    "# for i in range(5): \n",
    "#     m = torch.distributions.studentT.StudentT(torch.tensor([2.0]))\n",
    "#     x = m.sample([500])\n",
    "#     set_dist.append(x)  \n",
    "#     dist_type.append('StudentT')\n"
   ]
  },
  {
   "cell_type": "code",
   "execution_count": 17,
   "metadata": {},
   "outputs": [
    {
     "data": {
      "text/plain": [
       "'/home/ngr4/project/dist_encoder/results/'"
      ]
     },
     "execution_count": 17,
     "metadata": {},
     "output_type": "execute_result"
    }
   ],
   "source": [
    "pfp"
   ]
  },
  {
   "cell_type": "code",
   "execution_count": 16,
   "metadata": {},
   "outputs": [
    {
     "name": "stderr",
     "output_type": "stream",
     "text": [
      "/gpfs/ycga/project/dijk/ngr4/conda_envs/py385dev/lib/python3.8/site-packages/seaborn/distributions.py:2551: FutureWarning: `distplot` is a deprecated function and will be removed in a future version. Please adapt your code to use either `displot` (a figure-level function with similar flexibility) or `histplot` (an axes-level function for histograms).\n",
      "  warnings.warn(msg, FutureWarning)\n",
      "/gpfs/ycga/project/dijk/ngr4/conda_envs/py385dev/lib/python3.8/site-packages/seaborn/distributions.py:2551: FutureWarning: `distplot` is a deprecated function and will be removed in a future version. Please adapt your code to use either `displot` (a figure-level function with similar flexibility) or `histplot` (an axes-level function for histograms).\n",
      "  warnings.warn(msg, FutureWarning)\n",
      "/gpfs/ycga/project/dijk/ngr4/conda_envs/py385dev/lib/python3.8/site-packages/seaborn/distributions.py:2551: FutureWarning: `distplot` is a deprecated function and will be removed in a future version. Please adapt your code to use either `displot` (a figure-level function with similar flexibility) or `histplot` (an axes-level function for histograms).\n",
      "  warnings.warn(msg, FutureWarning)\n"
     ]
    },
    {
     "data": {
      "image/png": "[encoded data removed]",
      "text/plain": [
       "<Figure size 432x120.24 with 3 Axes>"
      ]
     },
     "metadata": {},
     "output_type": "display_data"
    }
   ],
   "source": [
    "cmap_dist = {v:sns.color_palette()[i] for i,v in zip([0, 2, 6], \n",
    "                                                     ['Random', 'Exponential', 'Normal'])}\n",
    "fig, ax = plt.subplots(1, 3, figsize=(6, 1.67))\n",
    "for i, distribution in enumerate(set_dist):\n",
    "    sns.distplot(distribution, ax=ax[i], color=cmap_dist[dist_type[i]])\n",
    "    ax[i].set_title(dist_type[i])\n",
    "fig.tight_layout()\n",
    "fig.savefig(os.path.join(pfp, 'distplot_example_sets.pdf'), bbox_inches='tight')\n",
    "    "
   ]
  },
  {
   "cell_type": "code",
   "execution_count": 2,
   "metadata": {},
   "outputs": [],
   "source": [
    "# generate data\n",
    "\n",
    "dist_type = []\n",
    "set_dist = []\n",
    "for i in range(10): \n",
    "    x = torch.rand(500,1)\n",
    "    set_dist.append(x)\n",
    "    dist_type.append('Random')\n",
    "    \n",
    "for i in range(3): \n",
    "    m = torch.distributions.beta.Beta(torch.tensor([.5]), torch.tensor([.5]))\n",
    "    x = m.sample([500])\n",
    "    set_dist.append(x)\n",
    "    dist_type.append('Beta')\n",
    "    \n",
    "for i in range(3): \n",
    "    m = torch.distributions.beta.Beta(torch.tensor([.7]), torch.tensor([.3]))\n",
    "    x = m.sample([500])\n",
    "    set_dist.append(x)\n",
    "    dist_type.append('Beta')\n",
    "    \n",
    "for i in range(3): \n",
    "    m = torch.distributions.beta.Beta(torch.tensor([.2]), torch.tensor([.7]))\n",
    "    x = m.sample([500])\n",
    "    set_dist.append(x)\n",
    "    dist_type.append('Beta')\n",
    "    \n",
    "for i in range(5): \n",
    "    m = torch.distributions.exponential.Exponential(torch.tensor([1.5]))\n",
    "    x = m.sample([500])\n",
    "    set_dist.append(x)\n",
    "    dist_type.append('Exponential')\n",
    "    \n",
    "for i in range(5): \n",
    "    m = torch.distributions.exponential.Exponential(torch.tensor([2.5]))\n",
    "    x = m.sample([500])\n",
    "    set_dist.append(x)\n",
    "    dist_type.append('Exponential')\n",
    "    \n",
    "for i in range(5): \n",
    "    m = torch.distributions.gamma.Gamma(torch.tensor([1.0]), torch.tensor([1.5]))\n",
    "    x = m.sample([500])\n",
    "    set_dist.append(x)\n",
    "    dist_type.append('Gamma')\n",
    "    \n",
    "for i in range(5): \n",
    "    m = torch.distributions.laplace.Laplace(torch.tensor([1.0]), torch.tensor([1.5]))\n",
    "    x = m.sample([500])\n",
    "    set_dist.append(x)\n",
    "    dist_type.append('Laplace')\n",
    "    \n",
    "for i in range(5): \n",
    "    m = torch.distributions.laplace.Laplace(torch.tensor([.5]), torch.tensor([1.0]))\n",
    "    x = m.sample([500])\n",
    "    set_dist.append(x)\n",
    "    dist_type.append('Laplace')\n",
    "    \n",
    "for i in range(5): \n",
    "    m = torch.distributions.log_normal.LogNormal(torch.tensor([0.0]), torch.tensor([0.5]))\n",
    "    x = m.sample([500])\n",
    "    set_dist.append(x)\n",
    "    dist_type.append('LogNormal')\n",
    "\n",
    "    \n",
    "for i in range(5): \n",
    "    m = torch.distributions.normal.Normal(torch.tensor([0.0]), torch.tensor([1.0]))\n",
    "    x = m.sample([500])\n",
    "    set_dist.append(x)   \n",
    "    dist_type.append('Normal')\n",
    "\n",
    "for i in range(5): \n",
    "    m = torch.distributions.normal.Normal(torch.tensor([0.3]), torch.tensor([0.5]))\n",
    "    x = m.sample([500])\n",
    "    set_dist.append(x)  \n",
    "    dist_type.append('Normal')\n",
    "    \n",
    "    \n",
    "# for i in range(5): \n",
    "#     m = torch.distributions.studentT.StudentT(torch.tensor([2.0]))\n",
    "#     x = m.sample([500])\n",
    "#     set_dist.append(x)  \n",
    "#     dist_type.append('StudentT')\n",
    "    \n",
    "set_dist = torch.stack(set_dist)"
   ]
  },
  {
   "cell_type": "code",
   "execution_count": 3,
   "metadata": {},
   "outputs": [],
   "source": [
    "# models\n",
    "\n",
    "class Set2Set(nn.Module):\n",
    "    def __init__(self, input_dim, hidden_dim, act_fn=nn.Tanh, num_layers=1):\n",
    "        '''\n",
    "        Args:\n",
    "            input_dim: input dim of Set2Set. \n",
    "            hidden_dim: the dim of set representation, which is also the INPUT dimension of \n",
    "                the LSTM in Set2Set. \n",
    "                This is a concatenation of weighted sum of embedding (dim input_dim), and the LSTM\n",
    "                hidden/output (dim: self.lstm_output_dim).\n",
    "        '''\n",
    "        super(Set2Set, self).__init__()\n",
    "        self.input_dim = input_dim\n",
    "        self.hidden_dim = hidden_dim\n",
    "        self.num_layers = num_layers\n",
    "        if hidden_dim <= input_dim:\n",
    "            print('ERROR: Set2Set output_dim should be larger than input_dim')\n",
    "        # the hidden is a concatenation of weighted sum of embedding and LSTM output\n",
    "        self.lstm_output_dim = hidden_dim - input_dim\n",
    "        self.lstm = nn.LSTM(hidden_dim, input_dim, num_layers=num_layers, batch_first=True)\n",
    "\n",
    "        # convert back to dim of input_dim\n",
    "       # self.pred = nn.Linear(hidden_dim, input_dim)\n",
    "        self.pred = nn.Linear(hidden_dim,4)\n",
    "        self.act = act_fn()\n",
    "\n",
    "    def forward(self, embedding):\n",
    "        '''\n",
    "        Args:\n",
    "            embedding: [batch_size x n x d] embedding matrix\n",
    "        Returns:\n",
    "            aggregated: [batch_size x d] vector representation of all embeddings\n",
    "        '''\n",
    "        batch_size = embedding.size()[0]\n",
    "        n = embedding.size()[1]\n",
    "\n",
    "        hidden = (torch.zeros(self.num_layers, batch_size, self.lstm_output_dim).cuda(),\n",
    "                  torch.zeros(self.num_layers, batch_size, self.lstm_output_dim).cuda())\n",
    "\n",
    "        q_star = torch.zeros(batch_size, 1, self.hidden_dim).cuda()\n",
    "        for i in range(n):\n",
    "            # q: batch_size x 1 x input_dim\n",
    "            q, hidden = self.lstm(q_star, hidden)\n",
    "            # e: batch_size x n x 1\n",
    "            e = embedding @ torch.transpose(q, 1, 2)\n",
    "            a = nn.Softmax(dim=1)(e)\n",
    "            r = torch.sum(a * embedding, dim=1, keepdim=True)\n",
    "            q_star = torch.cat((q, r), dim=2)\n",
    "        q_star = torch.squeeze(q_star, dim=1)\n",
    "        out = self.act(self.pred(q_star))\n",
    "\n",
    "        return out\n",
    "    \n",
    "class DeepSet(nn.Module):\n",
    "\n",
    "    def __init__(self, in_features, set_features):\n",
    "        super(DeepSet, self).__init__()\n",
    "        self.in_features = in_features\n",
    "        self.out_features = set_features\n",
    "        self.feature_extractor = nn.Sequential(\n",
    "            nn.Linear(in_features, 50),\n",
    "            nn.ELU(inplace=True),\n",
    "            nn.Linear(50, 100),\n",
    "            nn.ELU(inplace=True),\n",
    "            nn.Linear(100, set_features)\n",
    "        )\n",
    "\n",
    "        self.regressor = nn.Sequential(\n",
    "            nn.Linear(set_features, 30),\n",
    "            nn.ELU(inplace=True),\n",
    "            nn.Linear(30, 30),\n",
    "            nn.ELU(inplace=True),\n",
    "            nn.Linear(30, 10),\n",
    "            nn.ELU(inplace=True),\n",
    "            nn.Linear(10, 2),\n",
    "        )\n",
    "        \n",
    "        \n",
    "    def forward(self, input):\n",
    "        x = input\n",
    "        x = self.feature_extractor(x)\n",
    "        x = x.sum(dim=1)\n",
    "        x = self.regressor(x)\n",
    "        return x\n",
    "   \n",
    "class Encoder(nn.Module):\n",
    "    \"\"\" Set Encoder \n",
    "    \"\"\"\n",
    "    def __init__(self, dim_Q, dim_K, dim_V, d_model, num_heads, ln=False, skip=True):\n",
    "        super(Encoder, self).__init__()\n",
    "        self.dim_V = dim_V\n",
    "        self.num_heads = num_heads\n",
    "        self.skip = skip\n",
    "       # self.s_max = s_max\n",
    "        #Maximum set size\n",
    "        self.d_model = d_model\n",
    "        self.fc_q = nn.Linear(dim_Q, d_model)\n",
    "        self.fc_k = nn.Linear(dim_K, d_model)\n",
    "        self.fc_v = nn.Linear(dim_K, d_model)\n",
    "        if ln:\n",
    "            self.ln0 = nn.LayerNorm(d_model)\n",
    "            self.ln1 = nn.LayerNorm(d_model)\n",
    "        #This is the classic pointwise feedforward in \"Attention is All you need\"\n",
    "        self.ff = nn.Sequential(\n",
    "        nn.Linear(d_model, 4 * d_model),\n",
    "        nn.ReLU(),\n",
    "        nn.Linear(4 * d_model, d_model))\n",
    "        # I have experimented with just a smaller version of this \n",
    "       # self.fc_o = nn.Linear(d_model,d_model)\n",
    "        \n",
    "     #   self.fc_rep = nn.Linear(s_max, 1)\n",
    "    #number of heads must divide output size = d_model\n",
    "        \n",
    "\n",
    "    def forward(self, Q, K):\n",
    "        Q = self.fc_q(Q)\n",
    "      \n",
    "        K, V = self.fc_k(K), self.fc_v(K)\n",
    "\n",
    "        dim_split = self.d_model // self.num_heads\n",
    "        Q_ = torch.cat(Q.split(dim_split, 2), 0)\n",
    "        K_ = torch.cat(K.split(dim_split, 2), 0)\n",
    "        V_ = torch.cat(V.split(dim_split, 2), 0)\n",
    "  \n",
    "\n",
    "        A = torch.softmax(Q_.bmm(K_.transpose(-2,-1))/math.sqrt(self.d_model), dim=-1)\n",
    "        A_1 = A.bmm(V_)\n",
    "        \n",
    " \n",
    "        O = torch.cat((A_1).split(Q.size(0), 0), 2)\n",
    "       \n",
    "        O = torch.cat((Q_ + A_1).split(Q.size(0), 0), 2) if getattr(self, 'skip', True) else \\\n",
    "             torch.cat((A_1).split(Q.size(0), 0), 2)\n",
    "        O = O if getattr(self, 'ln0', None) is None else self.ln0(O)\n",
    "       # O = O + F.relu(self.fc_o(O)) if getattr(self, 'skip', None) is None else F.relu(self.fc_o(O))\n",
    "        # For the classic transformers paper it is \n",
    "        O = O + self.ff(O)\n",
    "        O = O if getattr(self, 'ln1', None) is None else self.ln1(O)\n",
    "        O = torch.mean(O,dim=1)\n",
    "#         O = pad_sequence(O, batch_first=True, padding_value=0)\n",
    "#         O = O.transpose(-2,-1)\n",
    "#         O = F.pad(O, (0, self.s_max- O.shape[-1]), 'constant', 0)\n",
    "      #  O = self.fc_rep(O)\n",
    "       # O = self.fc_rep(O.transpose(-2,-1))\n",
    "      #  O = O.squeeze()\n",
    "\n",
    "        return O\n",
    "    \n",
    "    \n",
    "class SelfAttention(nn.Module):\n",
    "    def __init__(self, dim_in=18, dim_out=8, num_heads=2, ln=True, skip=True):\n",
    "        super(SelfAttention, self).__init__()\n",
    "        self.Encoder = Encoder(dim_in, dim_in, dim_in, dim_out, num_heads, ln=ln, skip=skip)\n",
    "\n",
    "    def forward(self, X):\n",
    "        return self.Encoder(X, X)\n",
    "    \n"
   ]
  },
  {
   "cell_type": "code",
   "execution_count": 4,
   "metadata": {},
   "outputs": [],
   "source": [
    "# utils\n",
    "\n",
    "eps = 1e-15\n",
    "\"\"\"Approximating KL divergences between two probability densities using samples. \n",
    "    It is buggy. Use at your own peril\n",
    "\"\"\"\n",
    "\n",
    "def knn_distance(point, sample, k):\n",
    "    \"\"\" Euclidean distance from `point` to it's `k`-Nearest\n",
    "    Neighbour in `sample` \"\"\"\n",
    "    norms = np.linalg.norm(sample-point, axis=1)\n",
    "    return np.sort(norms)[k]\n",
    "\n",
    "\n",
    "def verify_sample_shapes(s1, s2, k):\n",
    "    # Expects [N, D]\n",
    "    assert(len(s1.shape) == len(s2.shape) == 2)\n",
    "    # Check dimensionality of sample is identical\n",
    "    assert(s1.shape[1] == s2.shape[1])\n",
    "\n",
    "\n",
    "def naive_estimator(s1, s2, k=1):\n",
    "    \"\"\" KL-Divergence estimator using brute-force (numpy) k-NN\n",
    "        s1: (N_1,D) Sample drawn from distribution P\n",
    "        s2: (N_2,D) Sample drawn from distribution Q\n",
    "        k: Number of neighbours considered (default 1)\n",
    "        return: estimated D(P|Q)\n",
    "    \"\"\"\n",
    "    verify_sample_shapes(s1, s2, k)\n",
    "\n",
    "    n, m = len(s1), len(s2)\n",
    "    D = np.log(m / (n - 1))\n",
    "    d = float(s1.shape[1])\n",
    "\n",
    "    for p1 in s1:\n",
    "        nu = knn_distance(p1, s2, k-1)  # -1 because 'p1' is not in 's2'\n",
    "        rho = knn_distance(p1, s1, k)\n",
    "        D += (d/n)*np.log((nu/rho)+eps)\n",
    "    return D\n",
    "\n",
    "\n",
    "def scipy_estimator(s1, s2, k=1):\n",
    "    \"\"\" KL-Divergence estimator using scipy's KDTree\n",
    "        s1: (N_1,D) Sample drawn from distribution P\n",
    "        s2: (N_2,D) Sample drawn from distribution Q\n",
    "        k: Number of neighbours considered (default 1)\n",
    "        return: estimated D(P|Q)\n",
    "    \"\"\"\n",
    "    verify_sample_shapes(s1, s2, k)\n",
    "\n",
    "    n, m = len(s1), len(s2)\n",
    "    d = float(s1.shape[1])\n",
    "    D = np.log(m / (n - 1))\n",
    "\n",
    "    nu_d,  nu_i   = KDTree(s2).query(s1, k)\n",
    "    rho_d, rhio_i = KDTree(s1).query(s1, k+1)\n",
    "\n",
    "    # KTree.query returns different shape in k==1 vs k > 1\n",
    "    if k > 1:\n",
    "        D += (d/n)*np.sum(np.log(nu_d[::, -1]/rho_d[::, -1]))\n",
    "    else:\n",
    "        D += (d/n)*np.sum(np.log(nu_d/rho_d[::, -1]))\n",
    "\n",
    "    return D\n",
    "\n",
    "\n",
    "def skl_estimator(s1, s2, k=1):\n",
    "    \"\"\" KL-Divergence estimator using scikit-learn's NearestNeighbours\n",
    "        s1: (N_1,D) Sample drawn from distribution P\n",
    "        s2: (N_2,D) Sample drawn from distribution Q\n",
    "        k: Number of neighbours considered (default 1)\n",
    "        return: estimated D(P|Q)\n",
    "    \"\"\"\n",
    "    verify_sample_shapes(s1, s2, k)\n",
    "\n",
    "    n, m = len(s1), len(s2)\n",
    "    d = float(s1.shape[1])\n",
    "    D = np.log(m / (n - 1))\n",
    "\n",
    "    s1_neighbourhood = NearestNeighbors(k+1, 10).fit(s1)\n",
    "    s2_neighbourhood = NearestNeighbors(k, 10).fit(s2)\n",
    "\n",
    "    for p1 in s1:\n",
    "        s1_distances, indices = s1_neighbourhood.kneighbors([p1], k+1)\n",
    "        s2_distances, indices = s2_neighbourhood.kneighbors([p1], k)\n",
    "        rho = s1_distances[0][-1]\n",
    "        nu = s2_distances[0][-1]\n",
    "        D += (d/n)*np.log(nu/rho)\n",
    "    return D\n",
    "\n",
    "\n",
    "# List of all estimators\n",
    "Estimators = [naive_estimator, scipy_estimator, skl_estimator]\n",
    "\n",
    "\n",
    "class SinkhornDistance(nn.Module):\n",
    "    r\"\"\"\n",
    "    Given two empirical measures each with :math:`P_1` locations\n",
    "    :math:`x\\in\\mathbb{R}^{D_1}` and :math:`P_2` locations :math:`y\\in\\mathbb{R}^{D_2}`,\n",
    "    outputs an approximation of the regularized OT cost for point clouds.\n",
    "    Args:\n",
    "        eps (float): regularization coefficient\n",
    "        max_iter (int): maximum number of Sinkhorn iterations\n",
    "        reduction (string, optional): Specifies the reduction to apply to the output:\n",
    "            'none' | 'mean' | 'sum'. 'none': no reduction will be applied,\n",
    "            'mean': the sum of the output will be divided by the number of\n",
    "            elements in the output, 'sum': the output will be summed. Default: 'none'\n",
    "    Shape:\n",
    "        - Input: :math:`(N, P_1, D_1)`, :math:`(N, P_2, D_2)`\n",
    "        - Output: :math:`(N)` or :math:`()`, depending on `reduction`\n",
    "    \"\"\"\n",
    "    def __init__(self, eps, max_iter, reduction='none'):\n",
    "        super(SinkhornDistance, self).__init__()\n",
    "        self.eps = eps\n",
    "        self.max_iter = max_iter\n",
    "        self.reduction = reduction\n",
    "\n",
    "    def forward(self, x, y):\n",
    "        # The Sinkhorn algorithm takes as input three variables :\n",
    "        C = self._cost_matrix(x, y)  # Wasserstein cost function\n",
    "        x_points = x.shape[-2]\n",
    "        y_points = y.shape[-2]\n",
    "        if x.dim() == 2:\n",
    "            batch_size = 1\n",
    "        else:\n",
    "            batch_size = x.shape[0]\n",
    "\n",
    "        # both marginals are fixed with equal weights\n",
    "        mu = torch.empty(batch_size, x_points, dtype=torch.float,\n",
    "                         requires_grad=False).fill_(1.0 / x_points).to(device).squeeze()\n",
    "        nu = torch.empty(batch_size, y_points, dtype=torch.float,\n",
    "                         requires_grad=False).fill_(1.0 / y_points).to(device).squeeze()\n",
    "\n",
    "        u = torch.zeros_like(mu).to(device)\n",
    "        v = torch.zeros_like(nu).to(device)\n",
    "        # To check if algorithm terminates because of threshold\n",
    "        # or max iterations reached\n",
    "        actual_nits = 0\n",
    "        # Stopping criterion\n",
    "        thresh = 1e-1\n",
    "\n",
    "        # Sinkhorn iterations\n",
    "        for i in range(self.max_iter):\n",
    "            u1 = u  # useful to check the update\n",
    "            u = self.eps * (torch.log(mu+1e-8) - torch.logsumexp(self.M(C, u, v), dim=-1)) + u\n",
    "            v = self.eps * (torch.log(nu+1e-8) - torch.logsumexp(self.M(C, u, v).transpose(-2, -1), dim=-1)) + v\n",
    "            err = (u - u1).abs().sum(-1).mean()\n",
    "\n",
    "            actual_nits += 1\n",
    "            if err.item() < thresh:\n",
    "                break\n",
    "\n",
    "        U, V = u, v\n",
    "        # Transport plan pi = diag(a)*K*diag(b)\n",
    "        pi = torch.exp(self.M(C, U, V))\n",
    "        # Sinkhorn distance\n",
    "        cost = torch.sum(pi * C, dim=(-2, -1))\n",
    "\n",
    "        if self.reduction == 'mean':\n",
    "            cost = cost.mean()\n",
    "        elif self.reduction == 'sum':\n",
    "            cost = cost.sum()\n",
    "\n",
    "      #  return cost, pi, C\n",
    "        return cost\n",
    "\n",
    "    def M(self, C, u, v):\n",
    "        \"Modified cost for logarithmic updates\"\n",
    "        \"$M_{ij} = (-c_{ij} + u_i + v_j) / \\epsilon$\"\n",
    "        return (-C + u.unsqueeze(-1) + v.unsqueeze(-2)) / self.eps\n",
    "\n",
    "    @staticmethod\n",
    "    def _cost_matrix(x, y, p=1):\n",
    "        \"Returns the matrix of $|x_i-y_j|^p$.\"\n",
    "        x_col = x.unsqueeze(-2)\n",
    "        y_lin = y.unsqueeze(-3)\n",
    "        C = torch.sum((torch.abs(x_col - y_lin)) ** p, -1)\n",
    "        return C\n",
    "\n",
    "    @staticmethod\n",
    "    def ave(u, u1, tau):\n",
    "        \"Barycenter subroutine, used by kinetic acceleration through extrapolation.\"\n",
    "        return tau * u + (1 - tau) * u1"
   ]
  },
  {
   "cell_type": "code",
   "execution_count": 5,
   "metadata": {},
   "outputs": [
    {
     "data": {
      "text/plain": [
       "DeepSet(\n",
       "  (feature_extractor): Sequential(\n",
       "    (0): Linear(in_features=1, out_features=50, bias=True)\n",
       "    (1): ELU(alpha=1.0, inplace=True)\n",
       "    (2): Linear(in_features=50, out_features=100, bias=True)\n",
       "    (3): ELU(alpha=1.0, inplace=True)\n",
       "    (4): Linear(in_features=100, out_features=36, bias=True)\n",
       "  )\n",
       "  (regressor): Sequential(\n",
       "    (0): Linear(in_features=36, out_features=30, bias=True)\n",
       "    (1): ELU(alpha=1.0, inplace=True)\n",
       "    (2): Linear(in_features=30, out_features=30, bias=True)\n",
       "    (3): ELU(alpha=1.0, inplace=True)\n",
       "    (4): Linear(in_features=30, out_features=10, bias=True)\n",
       "    (5): ELU(alpha=1.0, inplace=True)\n",
       "    (6): Linear(in_features=10, out_features=2, bias=True)\n",
       "  )\n",
       ")"
      ]
     },
     "execution_count": 5,
     "metadata": {},
     "output_type": "execute_result"
    }
   ],
   "source": [
    "# initialize\n",
    "\n",
    "device = torch.device('cuda' if torch.cuda.is_available() else 'cpu')\n",
    "model = DeepSet(1, 36).to(device)\n",
    "sinkhorn = SinkhornDistance(eps=0.1, max_iter=100, reduction=None).to(device)\n",
    "\n",
    "model.load_state_dict(torch.load(os.path.join('/home/ngr4/project/dist_encoder/notebooks_and_pkl/', 'deepset_dist_flat6.pkl')))\n",
    "model.eval()"
   ]
  },
  {
   "cell_type": "code",
   "execution_count": 374,
   "metadata": {},
   "outputs": [
    {
     "name": "stdout",
     "output_type": "stream",
     "text": [
      "... through 51 iterations\t84.72-s elapsed\n"
     ]
    }
   ],
   "source": [
    "results = pd.DataFrame()\n",
    "euclidean_dist = []\n",
    "wass_dist = []\n",
    "dist_comparison = []\n",
    "\n",
    "tic = time.time()\n",
    "for i in range(len(set_dist)):\n",
    "    for j in range(i+1,len(set_dist)):\n",
    "\n",
    "        euclidean_dist.append((torch.norm(model(set_dist[i, :, :].view(1, -1, 1))-model(set_dist[j, :, :].view(1, -1, 1)), p=2)).item())\n",
    "        wass_dist.append((sinkhorn(set_dist[i, :, :].view(1, -1, 1), set_dist[j, :, :].view(1, -1, 1))).item())\n",
    "        dist_comparison.append('{}-{}'.format(dist_type[i], dist_type[j]))\n",
    "    \n",
    "    if i%50==0 and i!=0:\n",
    "        print('... through {} iterations\\t{:.2f}-s elapsed'.format(i+1, time.time()-tic))\n",
    "        results = pd.DataFrame()\n",
    "        results['Euclidean distance'] = euclidean_dist\n",
    "        results['Wasserstein distance'] = wass_dist\n",
    "        results['Comparisons'] = dist_comparison\n",
    "        results.to_csv(os.path.join('/home/ngr4/project/dist_encoder/results/', 'results_flat6.csv'))\n",
    "\n",
    "# store results\n",
    "results = pd.DataFrame()\n",
    "results['Euclidean distance'] = euclidean_dist\n",
    "results['Wasserstein distance'] = wass_dist\n",
    "results['Comparisons'] = dist_comparison\n",
    "results.to_csv(os.path.join('/home/ngr4/project/dist_encoder/results/', 'results_flat6.csv'))\n",
    "        "
   ]
  },
  {
   "cell_type": "code",
   "execution_count": 387,
   "metadata": {},
   "outputs": [
    {
     "data": {
      "image/png": "[encoded data removed]",
      "text/plain": [
       "<Figure size 144x120.24 with 1 Axes>"
      ]
     },
     "metadata": {},
     "output_type": "display_data"
    }
   ],
   "source": [
    "# visualize comparisons\n",
    "fname = 'flat6'\n",
    "fig, ax = plt.subplots(1, 1, figsize=(2, 1.67))\n",
    "sns.scatterplot(x='Euclidean distance',\n",
    "                y='Wasserstein distance',\n",
    "                hue='Comparisons',\n",
    "                data=results,\n",
    "                linewidth=0,\n",
    "                s=6,\n",
    "                alpha=1,\n",
    "                ax=ax,\n",
    "                rasterized=True)\n",
    "sns.regplot(x='Euclidean distance', \n",
    "            y='Wasserstein distance', \n",
    "            data=results, \n",
    "            x_estimator=None, x_bins=None, x_ci='ci', scatter=False, fit_reg=True, ci=95, \n",
    "            n_boot=1000, units=None, seed=None, order=1, logistic=False, lowess=False, robust=False, \n",
    "            logx=False, x_partial=None, y_partial=None, truncate=True, dropna=True, x_jitter=None, y_jitter=None, \n",
    "            label=None, color='k', marker='o', scatter_kws=None, line_kws=None, ax=ax)\n",
    "ax.legend(bbox_to_anchor=(1,1))\n",
    "\n",
    "# correlation\n",
    "r, p = stats.pearsonr(results['Euclidean distance'], results['Wasserstein distance'])\n",
    "ax.text(0.2,0.8,'$r={:.2f}$'.format(r), transform=ax.transAxes, ha='center')\n",
    "\n",
    "ax.set_title('In training distributions')\n",
    "ax.set_ylabel('Wasserstein distance \\n(via Sinkhorn)', ha='center')\n",
    "ax.set_xlabel('Euclidean distance \\n(in embedded space)', ha='center')\n",
    "\n",
    "\n",
    "if savefigs:\n",
    "    fig.savefig(os.path.join(pfp, 'corr_plot_{}.pdf'.format(fname)), dpi=600, bbox_inches='tight')"
   ]
  },
  {
   "cell_type": "markdown",
   "metadata": {},
   "source": [
    "# Experiments\n",
    "\n",
    "## Translation\n",
    "\n",
    "Add a constant to each distribution"
   ]
  },
  {
   "cell_type": "code",
   "execution_count": 12,
   "metadata": {},
   "outputs": [
    {
     "name": "stdout",
     "output_type": "stream",
     "text": [
      "... through 51 iterations\t4.01-s elapsed\n"
     ]
    }
   ],
   "source": [
    "fname = 'tranlsation'\n",
    "\n",
    "results = pd.DataFrame()\n",
    "euclidean_dist = []\n",
    "euclidean_dist_trans = []\n",
    "dist_comparison = []\n",
    "\n",
    "tic = time.time()\n",
    "for i in range(len(set_dist)):\n",
    "    for j in range(i+1,len(set_dist)):\n",
    "        \n",
    "        xprime = torch.rand(1)\n",
    "\n",
    "        euclidean_dist.append((torch.norm(model(set_dist[i, :, :].view(1, -1, 1))-model(set_dist[j, :, :].view(1, -1, 1)), p=2)).item())\n",
    "        euclidean_dist_trans.append((torch.norm(model(set_dist[i, :, :].view(1, -1, 1)+xprime)-model(set_dist[j, :, :].view(1, -1, 1)+xprime), p=2)).item())\n",
    "        dist_comparison.append('{}-{}'.format(dist_type[i], dist_type[j]))\n",
    "    \n",
    "    if i%50==0 and i!=0:\n",
    "        print('... through {} iterations\\t{:.2f}-s elapsed'.format(i+1, time.time()-tic))\n",
    "        results = pd.DataFrame()\n",
    "        results['Euclidean distance'] = euclidean_dist\n",
    "        results['Translated Euclidean distance'] = euclidean_dist_trans\n",
    "        results['Comparisons'] = dist_comparison\n",
    "        results.to_csv(os.path.join('/home/ngr4/project/dist_encoder/results/', 'results_{}.csv'.format(fname)))\n",
    "\n",
    "# store results\n",
    "results = pd.DataFrame()\n",
    "results['Euclidean distance'] = euclidean_dist\n",
    "results['Translated Euclidean distance'] = euclidean_dist_trans\n",
    "results['Comparisons'] = dist_comparison\n",
    "results.to_csv(os.path.join('/home/ngr4/project/dist_encoder/results/', 'results_{}.csv'.format(fname)))\n",
    "        "
   ]
  },
  {
   "cell_type": "code",
   "execution_count": 13,
   "metadata": {},
   "outputs": [
    {
     "data": {
      "image/png": "[encoded data removed]",
      "text/plain": [
       "<Figure size 144x120.24 with 1 Axes>"
      ]
     },
     "metadata": {},
     "output_type": "display_data"
    }
   ],
   "source": [
    "# visualize comparisons\n",
    "fname = 'Translation'\n",
    "fig, ax = plt.subplots(1, 1, figsize=(2, 1.67))\n",
    "sns.scatterplot(x='Euclidean distance',\n",
    "                y='Translated Euclidean distance',\n",
    "                hue='Comparisons',\n",
    "                data=results,\n",
    "                linewidth=0,\n",
    "                s=6,\n",
    "                alpha=1,\n",
    "                ax=ax,\n",
    "                rasterized=True)\n",
    "sns.regplot(x='Euclidean distance', \n",
    "            y='Translated Euclidean distance', \n",
    "            data=results, \n",
    "            x_estimator=None, x_bins=None, x_ci='ci', scatter=False, fit_reg=True, ci=95, \n",
    "            n_boot=1000, units=None, seed=None, order=1, logistic=False, lowess=False, robust=False, \n",
    "            logx=False, x_partial=None, y_partial=None, truncate=True, dropna=True, x_jitter=None, y_jitter=None, \n",
    "            label=None, color='k', marker='o', scatter_kws=None, line_kws=None, ax=ax)\n",
    "\n",
    "# correlation\n",
    "r, p = stats.pearsonr(results['Euclidean distance'], results['Translated Euclidean distance'])\n",
    "ax.text(0.2,0.8,'$r={:.2f}$'.format(r), transform=ax.transAxes, ha='center')\n",
    "\n",
    "ax.legend(bbox_to_anchor=(1,1))\n",
    "ax.set_title(fname)\n",
    "ax.set_ylabel('Translated distance\\n(in embedded space)', ha='center')\n",
    "ax.set_xlabel('Euclidean distance \\n(in embedded space)', ha='center')\n",
    "\n",
    "if savefigs:\n",
    "    fig.savefig(os.path.join(pfp, 'corr_plot_{}.pdf'.format(fname)), dpi=600, bbox_inches='tight')"
   ]
  },
  {
   "cell_type": "code",
   "execution_count": 78,
   "metadata": {},
   "outputs": [],
   "source": [
    "# store dist_pal to match color scheme\n",
    "dist_pal = {v:sns.color_palette('husl', n_colors=len(np.unique(dist_comparison)))[i] for i,v in enumerate(np.array(dist_comparison)[np.sort(np.unique(dist_comparison, return_index=True)[1])].tolist())}"
   ]
  },
  {
   "cell_type": "markdown",
   "metadata": {},
   "source": [
    "## visualize encoded space "
   ]
  },
  {
   "cell_type": "code",
   "execution_count": 430,
   "metadata": {},
   "outputs": [
    {
     "data": {
      "image/png": "[encoded data removed]",
      "text/plain": [
       "<Figure size 216x144 with 1 Axes>"
      ]
     },
     "metadata": {},
     "output_type": "display_data"
    }
   ],
   "source": [
    "# visualize comparisons\n",
    "fname = 'Distributional embeddings'\n",
    "xy = np.empty((len(set_dist), 2))\n",
    "for i in range(len(set_dist)): \n",
    "    xy[i, :] = model(set_dist[i, :, :].view(1, -1, 1)).detach().numpy()\n",
    "    \n",
    "fig, ax = plt.subplots(1, 1, figsize=(3, 2))\n",
    "sns.scatterplot(x=xy[:,0],\n",
    "                y=xy[:,1],\n",
    "                hue=dist_type,\n",
    "                linewidth=0,\n",
    "                s=16,\n",
    "                alpha=1,\n",
    "                ax=ax,\n",
    "                rasterized=True)\n",
    "\n",
    "ax.legend(bbox_to_anchor=(1,1))\n",
    "ax.set_title(fname)\n",
    "ax.set_ylabel('Y', ha='center')\n",
    "ax.set_xlabel('X', ha='center')\n",
    "\n",
    "if savefigs:\n",
    "    fig.savefig(os.path.join(pfp, 'scatterplotplot_{}.pdf'.format(fname)), dpi=600, bbox_inches='tight')"
   ]
  },
  {
   "cell_type": "code",
   "execution_count": 129,
   "metadata": {},
   "outputs": [
    {
     "data": {
      "image/png": "[encoded data removed]",
      "text/plain": [
       "<Figure size 360x288 with 1 Axes>"
      ]
     },
     "metadata": {},
     "output_type": "display_data"
    }
   ],
   "source": [
    "# visualize comparisons\n",
    "dirac_pt = model(torch.ones(1, 500, 1)*0.5)\n",
    "normal_pt\n",
    "normal_pt2\n",
    "\n",
    "fig, ax = plt.subplots(1, 1, figsize=(5, 4))\n",
    "sns.scatterplot(x=xy[:,0],\n",
    "                y=xy[:,1],\n",
    "                hue=dist_type,\n",
    "                linewidth=0,\n",
    "                s=10,\n",
    "                alpha=1,\n",
    "                ax=ax,\n",
    "                rasterized=True)\n",
    "ax.scatter(normal_pt.detach()[:,0], dirac_pt.detach()[:,1], color='r', s=30)\n",
    "ax.scatter(normal_pt2.detach()[:,0], dirac_pt.detach()[:,1], color='b', s=30)\n",
    "ax.legend(bbox_to_anchor=(1,1))\n",
    "ax.set_title(fname)\n",
    "ax.set_ylabel('Y', ha='center')\n",
    "ax.set_xlabel('X', ha='center')\n",
    "\n",
    "if savefigs:\n",
    "    fig.savefig(os.path.join(pfp, 'scatterplotplot_{}.pdf'.format(fname)), dpi=600, bbox_inches='tight')"
   ]
  },
  {
   "cell_type": "code",
   "execution_count": 411,
   "metadata": {},
   "outputs": [
    {
     "name": "stderr",
     "output_type": "stream",
     "text": [
      "No handles with labels found to put in legend.\n"
     ]
    },
    {
     "data": {
      "image/png": "[encoded data removed]",
      "text/plain": [
       "<Figure size 360x288 with 1 Axes>"
      ]
     },
     "metadata": {},
     "output_type": "display_data"
    }
   ],
   "source": [
    "# visualize comparisons\n",
    "fname = 'Varying mean'\n",
    "n = 100\n",
    "xy = np.empty((n, 2))\n",
    "for i in range(n):\n",
    "    mu = torch.rand(1)*0.5\n",
    "    xy[i, :] = model(torch.distributions.normal.Normal(mu, 1).sample([500]).view(1, -1, 1)).detach().numpy()\n",
    "    \n",
    "fig, ax = plt.subplots(1, 1, figsize=(5, 4))\n",
    "sns.scatterplot(x=xy[:,0],\n",
    "                y=xy[:,1],\n",
    "#                 hue=dist_type,\n",
    "                linewidth=0,\n",
    "                s=10,\n",
    "                alpha=1,\n",
    "                ax=ax,\n",
    "                rasterized=True)\n",
    "\n",
    "# correlation\n",
    "r, p = stats.pearsonr(xy[:,0], xy[:,1])\n",
    "ax.text(0.2,0.2,'$r={:.2f}$'.format(r), transform=ax.transAxes, ha='center')\n",
    "\n",
    "ax.legend(bbox_to_anchor=(1,1))\n",
    "ax.set_title(fname)\n",
    "ax.set_ylabel('Y', ha='center')\n",
    "ax.set_xlabel('X', ha='center')\n",
    "\n",
    "if savefigs:\n",
    "    fig.savefig(os.path.join(pfp, 'scatterplotplot_{}.pdf'.format(fname)), dpi=600, bbox_inches='tight')"
   ]
  },
  {
   "cell_type": "code",
   "execution_count": 413,
   "metadata": {},
   "outputs": [
    {
     "name": "stderr",
     "output_type": "stream",
     "text": [
      "No handles with labels found to put in legend.\n"
     ]
    },
    {
     "data": {
      "image/png": "[encoded data removed]",
      "text/plain": [
       "<Figure size 360x288 with 1 Axes>"
      ]
     },
     "metadata": {},
     "output_type": "display_data"
    }
   ],
   "source": [
    "# visualize comparisons\n",
    "fname = 'Varying standard deviation'\n",
    "n = 100\n",
    "xy = np.empty((n, 2))\n",
    "for i in range(n):\n",
    "    sigma = torch.rand(1)\n",
    "    xy[i, :] = model(torch.distributions.normal.Normal(0, sigma).sample([500]).view(1, -1, 1)).detach().numpy()\n",
    "\n",
    "fig, ax = plt.subplots(1, 1, figsize=(5, 4))\n",
    "sns.scatterplot(x=xy[:,0],\n",
    "                y=xy[:,1],\n",
    "#                 hue=dist_type,\n",
    "                linewidth=0,\n",
    "                s=10,\n",
    "                alpha=1,\n",
    "                ax=ax,\n",
    "                rasterized=True)\n",
    "\n",
    "# correlation\n",
    "r, p = stats.pearsonr(xy[:,0], xy[:,1])\n",
    "ax.text(0.8,0.2,'$r={:.2f}$'.format(r), transform=ax.transAxes, ha='center')\n",
    "\n",
    "ax.legend(bbox_to_anchor=(1,1))\n",
    "ax.set_title(fname)\n",
    "ax.set_ylabel('Y', ha='center')\n",
    "ax.set_xlabel('X', ha='center')\n",
    "\n",
    "if savefigs:\n",
    "    fig.savefig(os.path.join(pfp, 'scatterplotplot_{}.pdf'.format(fname)), dpi=600, bbox_inches='tight')"
   ]
  },
  {
   "cell_type": "code",
   "execution_count": 426,
   "metadata": {},
   "outputs": [
    {
     "data": {
      "image/png": "[encoded data removed]",
      "text/plain": [
       "<Figure size 144x120.24 with 1 Axes>"
      ]
     },
     "metadata": {},
     "output_type": "display_data"
    },
    {
     "data": {
      "image/png": "[encoded data removed]",
      "text/plain": [
       "<Figure size 144x120.24 with 1 Axes>"
      ]
     },
     "metadata": {},
     "output_type": "display_data"
    }
   ],
   "source": [
    "fname = 'Varying means'\n",
    "\n",
    "euclidean_dist = []\n",
    "euclidean_dist_trans = []\n",
    "dist_comparison = []\n",
    "\n",
    "mus = []\n",
    "xy = np.empty((len(set_dist), 2))\n",
    "for i in range(len(set_dist)):\n",
    "    mus.append(set_dist[i, :, :].mean().item())\n",
    "    xy[i, :] = model(set_dist[i, :, :].view(1, -1, 1)).detach().numpy()\n",
    "\n",
    "\n",
    "# X\n",
    "fig, ax = plt.subplots(1, 1, figsize=(2, 1.67))\n",
    "sns.scatterplot(x=xy[:,0],\n",
    "                y=mus, \n",
    "                ax=ax,\n",
    "                hue=dist_type,\n",
    "                linewidth=0,\n",
    "                s=20)\n",
    "\n",
    "# correlation\n",
    "r, p = stats.pearsonr(xy[:,0], mus)\n",
    "ax.text(0.2,0.8,'$r={:.2f}$'.format(r), transform=ax.transAxes, ha='center')\n",
    "\n",
    "ax.legend(bbox_to_anchor=(1,1))\n",
    "ax.set_ylabel('Mean\\n(Normal distribution)', ha='center')\n",
    "ax.set_xlabel('X')\n",
    "\n",
    "sns.regplot(x=xy[:,0], \n",
    "            y=mus, \n",
    "            x_estimator=None, x_bins=None, x_ci='ci', scatter=False, fit_reg=True, ci=95, \n",
    "            n_boot=1000, units=None, seed=None, order=1, logistic=False, lowess=False, robust=False, \n",
    "            logx=False, x_partial=None, y_partial=None, truncate=True, dropna=True, x_jitter=None, y_jitter=None, \n",
    "            label=None, color='k', marker='o', scatter_kws=None, line_kws=None, ax=ax)\n",
    "\n",
    "if savefigs:\n",
    "    fig.savefig(os.path.join(pfp, 'scatterplotplot_X_{}.pdf'.format(fname)), dpi=600, bbox_inches='tight')\n",
    "    \n",
    "# Y    \n",
    "fig, ax = plt.subplots(1, 1, figsize=(2, 1.67))\n",
    "sns.scatterplot(x=xy[:,1],\n",
    "                y=mus, \n",
    "                ax=ax,\n",
    "                hue=dist_type,\n",
    "                linewidth=0,\n",
    "                s=20)\n",
    "\n",
    "# correlation\n",
    "r, p = stats.pearsonr(xy[:,1], mus)\n",
    "ax.text(0.2,0.8,'$r={:.2f}$'.format(r), transform=ax.transAxes, ha='center')\n",
    "\n",
    "ax.legend(bbox_to_anchor=(1,1))\n",
    "ax.set_ylabel('Mean\\n(Normal distribution)', ha='center')\n",
    "ax.set_xlabel('Y')\n",
    "\n",
    "sns.regplot(x=xy[:,1], \n",
    "            y=mus, \n",
    "            x_estimator=None, x_bins=None, x_ci='ci', scatter=False, fit_reg=True, ci=95, \n",
    "            n_boot=1000, units=None, seed=None, order=1, logistic=False, lowess=False, robust=False, \n",
    "            logx=False, x_partial=None, y_partial=None, truncate=True, dropna=True, x_jitter=None, y_jitter=None, \n",
    "            label=None, color='k', marker='o', scatter_kws=None, line_kws=None, ax=ax)\n",
    "\n",
    "if savefigs:\n",
    "    fig.savefig(os.path.join(pfp, 'scatterplotplot_Y_{}.pdf'.format(fname)), dpi=600, bbox_inches='tight')"
   ]
  },
  {
   "cell_type": "code",
   "execution_count": 427,
   "metadata": {},
   "outputs": [
    {
     "data": {
      "image/png": "[encoded data removed]",
      "text/plain": [
       "<Figure size 144x120.24 with 1 Axes>"
      ]
     },
     "metadata": {},
     "output_type": "display_data"
    },
    {
     "data": {
      "image/png": "[encoded data removed]",
      "text/plain": [
       "<Figure size 144x120.24 with 1 Axes>"
      ]
     },
     "metadata": {},
     "output_type": "display_data"
    }
   ],
   "source": [
    "fname = 'Varying standard deviations'\n",
    "\n",
    "sigmas = []\n",
    "xy = np.empty((len(set_dist), 2))\n",
    "for i in range(len(set_dist)):\n",
    "    sigmas.append(set_dist[i, :, :].std().item())\n",
    "    xy[i, :] = model(set_dist[i, :, :].view(1, -1, 1)).detach().numpy()\n",
    "\n",
    "\n",
    "# X\n",
    "fig, ax = plt.subplots(1, 1, figsize=(2, 1.67))\n",
    "sns.scatterplot(x=xy[:,0],\n",
    "                y=sigmas, \n",
    "                ax=ax,\n",
    "                hue=dist_type,\n",
    "                linewidth=0,\n",
    "                s=20)\n",
    "\n",
    "# correlation\n",
    "r, p = stats.pearsonr(xy[:,0], sigmas)\n",
    "ax.text(0.2,0.8,'$r={:.2f}$'.format(r), transform=ax.transAxes, ha='center')\n",
    "\n",
    "ax.legend(bbox_to_anchor=(1,1))\n",
    "ax.set_ylabel('Standard deviation\\n(Normal distribution)', ha='center')\n",
    "ax.set_xlabel('X')\n",
    "\n",
    "sns.regplot(x=xy[:,0], \n",
    "            y=sigmas, \n",
    "            x_estimator=None, x_bins=None, x_ci='ci', scatter=False, fit_reg=True, ci=95, \n",
    "            n_boot=1000, units=None, seed=None, order=1, logistic=False, lowess=False, robust=False, \n",
    "            logx=False, x_partial=None, y_partial=None, truncate=True, dropna=True, x_jitter=None, y_jitter=None, \n",
    "            label=None, color='k', marker='o', scatter_kws=None, line_kws=None, ax=ax)\n",
    "\n",
    "if savefigs:\n",
    "    fig.savefig(os.path.join(pfp, 'scatterplotplot_X_{}.pdf'.format(fname)), dpi=600, bbox_inches='tight')\n",
    "    \n",
    "# Y    \n",
    "fig, ax = plt.subplots(1, 1, figsize=(2, 1.67))\n",
    "sns.scatterplot(x=xy[:,1],\n",
    "                y=sigmas, \n",
    "                ax=ax,\n",
    "                hue=dist_type,\n",
    "                linewidth=0,\n",
    "                s=20)\n",
    "\n",
    "# correlation\n",
    "r, p = stats.pearsonr(xy[:,1], sigmas)\n",
    "ax.text(0.2,0.8,'$r={:.2f}$'.format(r), transform=ax.transAxes, ha='center')\n",
    "\n",
    "ax.legend(bbox_to_anchor=(1,1))\n",
    "ax.set_ylabel('Standard deviation\\n(Normal distribution)', ha='center')\n",
    "ax.set_xlabel('Y')\n",
    "\n",
    "sns.regplot(x=xy[:,1], \n",
    "            y=sigmas, \n",
    "            x_estimator=None, x_bins=None, x_ci='ci', scatter=False, fit_reg=True, ci=95, \n",
    "            n_boot=1000, units=None, seed=None, order=1, logistic=False, lowess=False, robust=False, \n",
    "            logx=False, x_partial=None, y_partial=None, truncate=True, dropna=True, x_jitter=None, y_jitter=None, \n",
    "            label=None, color='k', marker='o', scatter_kws=None, line_kws=None, ax=ax)\n",
    "\n",
    "if savefigs:\n",
    "    fig.savefig(os.path.join(pfp, 'scatterplotplot_Y_{}.pdf'.format(fname)), dpi=600, bbox_inches='tight')"
   ]
  },
  {
   "cell_type": "code",
   "execution_count": 160,
   "metadata": {},
   "outputs": [
    {
     "data": {
      "text/plain": [
       "<matplotlib.legend.Legend at 0x2b16fe1e5c10>"
      ]
     },
     "execution_count": 160,
     "metadata": {},
     "output_type": "execute_result"
    },
    {
     "data": {
      "image/png": "[encoded data removed]",
      "text/plain": [
       "<Figure size 432x288 with 1 Axes>"
      ]
     },
     "metadata": {},
     "output_type": "display_data"
    }
   ],
   "source": [
    "x1 = model(torch.distributions.normal.Normal(0,1).sample([500]).view(1,-1,1))\n",
    "x2 = model(torch.distributions.weibull.Weibull(0,1).sample([500]).view(1,-1,1))\n",
    "x3 = model(torch.distributions.log_normal.LogNormal(0,1).sample([500]).view(1,-1,1))\n",
    "x4 = model(torch.ones(1,500,1)*0)\n",
    "\n",
    "plt.scatter(x1.detach()[:,0], x1.detach()[:,1], alpha=0.2, label='Normal')\n",
    "plt.scatter(x2.detach()[:,0], x2.detach()[:,1], alpha=0.2, label='Weibull')\n",
    "plt.scatter(x3.detach()[:,0], x3.detach()[:,1], alpha=0.2,  label='LogNormal')\n",
    "plt.scatter(x4.detach()[:,0], x4.detach()[:,1], alpha=0.2,  label='Dirac')\n",
    "plt.legend(bbox_to_anchor=(1,1))\n"
   ]
  },
  {
   "cell_type": "code",
   "execution_count": null,
   "metadata": {},
   "outputs": [],
   "source": []
  },
  {
   "cell_type": "markdown",
   "metadata": {},
   "source": [
    "## Out-of-training-density"
   ]
  },
  {
   "cell_type": "code",
   "execution_count": 81,
   "metadata": {},
   "outputs": [],
   "source": [
    "# generate data\n",
    "\n",
    "dist_type = []\n",
    "set_dist = []\n",
    "\n",
    "    \n",
    "for i in range(3): \n",
    "    m = torch.distributions.beta.Beta(torch.tensor([.4]), torch.tensor([0.4]))\n",
    "    x = m.sample([500])\n",
    "    set_dist.append(x)\n",
    "    dist_type.append('Beta')\n",
    "    \n",
    "for i in range(3): \n",
    "    m = torch.distributions.beta.Beta(torch.tensor([0.1]), torch.tensor([.6]))\n",
    "    x = m.sample([500])\n",
    "    set_dist.append(x)\n",
    "    dist_type.append('Beta')\n",
    "\n",
    "for i in range(5): \n",
    "    m = torch.distributions.exponential.Exponential(torch.tensor([1.]))\n",
    "    x = m.sample([500])\n",
    "    set_dist.append(x)\n",
    "    dist_type.append('Exponential')\n",
    "    \n",
    "for i in range(5): \n",
    "    m = torch.distributions.exponential.Exponential(torch.tensor([0.5]))\n",
    "    x = m.sample([500])\n",
    "    set_dist.append(x)\n",
    "    dist_type.append('Exponential')\n",
    "    \n",
    "for i in range(5): \n",
    "    m = torch.distributions.gamma.Gamma(torch.tensor([0.5]), torch.tensor([1.]))\n",
    "    x = m.sample([500])\n",
    "    set_dist.append(x)\n",
    "    dist_type.append('Gamma')\n",
    "    \n",
    "for i in range(5): \n",
    "    m = torch.distributions.laplace.Laplace(torch.tensor([0.7]), torch.tensor([0.5]))\n",
    "    x = m.sample([500])\n",
    "    set_dist.append(x)\n",
    "    dist_type.append('Laplace')\n",
    "    \n",
    "for i in range(5): \n",
    "    m = torch.distributions.log_normal.LogNormal(torch.tensor([0.5]), torch.tensor([1.]))\n",
    "    x = m.sample([500])\n",
    "    set_dist.append(x)\n",
    "    dist_type.append('LogNormal')\n",
    "\n",
    "    \n",
    "for i in range(5): \n",
    "    m = torch.distributions.normal.Normal(torch.tensor([0.5]), torch.tensor([0.7]))\n",
    "    x = m.sample([500])\n",
    "    set_dist.append(x)   \n",
    "    dist_type.append('Normal')\n",
    "    \n",
    "    \n",
    "# for i in range(5): \n",
    "#     m = torch.distributions.studentT.StudentT(torch.tensor([1.0]))\n",
    "#     x = m.sample([500])\n",
    "#     set_dist.append(x)  \n",
    "#     dist_type.append('StudentT')\n",
    "    \n",
    "set_dist = torch.stack(set_dist)"
   ]
  },
  {
   "cell_type": "code",
   "execution_count": 82,
   "metadata": {},
   "outputs": [],
   "source": [
    "fname = 'out_of_density'\n",
    "\n",
    "results = pd.DataFrame()\n",
    "euclidean_dist = []\n",
    "wass_dist = []\n",
    "dist_comparison = []\n",
    "\n",
    "tic = time.time()\n",
    "for i in range(len(set_dist)):\n",
    "    for j in range(i+1,len(set_dist)):\n",
    "\n",
    "        euclidean_dist.append((torch.norm(model(set_dist[i, :, :].view(1, -1, 1))-model(set_dist[j, :, :].view(1, -1, 1)), p=2)).item())\n",
    "        wass_dist.append((sinkhorn(set_dist[i, :, :].view(1, -1, 1), set_dist[j, :, :].view(1, -1, 1))).item())\n",
    "        dist_comparison.append('{}-{}'.format(dist_type[i], dist_type[j]))\n",
    "    \n",
    "    if i%50==0 and i!=0:\n",
    "        print('... through {} iterations\\t{:.2f}-s elapsed'.format(i+1, time.time()-tic))\n",
    "        results = pd.DataFrame()\n",
    "        results['Euclidean distance'] = euclidean_dist\n",
    "        results['Wasserstein distance'] = wass_dist\n",
    "        results['Comparisons'] = dist_comparison\n",
    "        results.to_csv(os.path.join('/home/ngr4/project/dist_encoder/results/', 'results_{}.csv'.format(fname)))\n",
    "\n",
    "# store results\n",
    "results = pd.DataFrame()\n",
    "results['Euclidean distance'] = euclidean_dist\n",
    "results['Wasserstein distance'] = wass_dist\n",
    "results['Comparisons'] = dist_comparison\n",
    "results.to_csv(os.path.join('/home/ngr4/project/dist_encoder/results/', 'results_{}.csv'.format(fname)))\n",
    "        "
   ]
  },
  {
   "cell_type": "code",
   "execution_count": 83,
   "metadata": {},
   "outputs": [
    {
     "data": {
      "image/png": "[encoded data removed]",
      "text/plain": [
       "<Figure size 144x120.24 with 1 Axes>"
      ]
     },
     "metadata": {},
     "output_type": "display_data"
    }
   ],
   "source": [
    "# visualize comparisons\n",
    "fig, ax = plt.subplots(1, 1, figsize=(2, 1.67))\n",
    "sns.scatterplot(x='Euclidean distance',\n",
    "                y='Wasserstein distance',\n",
    "                hue='Comparisons',\n",
    "                data=results,\n",
    "                palette=dist_pal,\n",
    "                linewidth=0,\n",
    "                s=6,\n",
    "                alpha=1,\n",
    "                ax=ax,\n",
    "                rasterized=True)\n",
    "sns.regplot(x='Euclidean distance', \n",
    "            y='Wasserstein distance', \n",
    "            data=results, \n",
    "            x_estimator=None, x_bins=None, x_ci='ci', scatter=False, fit_reg=True, ci=95, \n",
    "            n_boot=1000, units=None, seed=None, order=1, logistic=False, lowess=False, robust=False, \n",
    "            logx=False, x_partial=None, y_partial=None, truncate=True, dropna=True, x_jitter=None, y_jitter=None, \n",
    "            label=None, color='k', marker='o', scatter_kws=None, line_kws=None, ax=ax)\n",
    "ax.legend(bbox_to_anchor=(1,1))\n",
    "ax.set_title('Out-of-training densities')\n",
    "\n",
    "# correlation\n",
    "r, p = stats.pearsonr(results['Euclidean distance'], results['Wasserstein distance'])\n",
    "ax.text(0.2,0.8,'$r={:.2f}$'.format(r), transform=ax.transAxes, ha='center')\n",
    "\n",
    "ax.set_ylabel('Wasserstein distance \\n(via Sinkhorn)', ha='center')\n",
    "ax.set_xlabel('Euclidean distance \\n(in embedded space)', ha='center')\n",
    "\n",
    "if savefigs:\n",
    "    fig.savefig(os.path.join(pfp, 'corr_plot_{}.pdf'.format(fname)), dpi=600, bbox_inches='tight')"
   ]
  },
  {
   "cell_type": "markdown",
   "metadata": {},
   "source": [
    "## sigma --> dirac point"
   ]
  },
  {
   "cell_type": "code",
   "execution_count": 6,
   "metadata": {},
   "outputs": [],
   "source": [
    "# generate data\n",
    "\n",
    "dist_type = []\n",
    "set_dist = []\n",
    "\n",
    "for sigma in np.linspace(0, 1, 100):\n",
    "    m = torch.distributions.normal.Normal(torch.tensor([0.0]), torch.tensor([sigma]))\n",
    "    x = m.sample([500])\n",
    "    set_dist.append(x) \n",
    "\n",
    "    \n",
    "set_dist = torch.stack(set_dist)"
   ]
  },
  {
   "cell_type": "code",
   "execution_count": 12,
   "metadata": {},
   "outputs": [],
   "source": [
    "dirac_pt = model(torch.zeros((1, 500, 1))).detach().numpy()\n",
    "xy = model(set_dist).detach().numpy()"
   ]
  },
  {
   "cell_type": "code",
   "execution_count": 23,
   "metadata": {},
   "outputs": [
    {
     "data": {
      "image/png": "[encoded data removed]",
      "text/plain": [
       "<Figure size 144x120.24 with 2 Axes>"
      ]
     },
     "metadata": {},
     "output_type": "display_data"
    }
   ],
   "source": [
    "fig, ax = plt.subplots(1,1, figsize=(2, 1.67))\n",
    "im = ax.scatter(xy[:, 0], xy[:, 1], c=np.linspace(0, 1, 100), cmap='RdYlBu_r', s=10)\n",
    "fig.colorbar(im, pad=0, label='$\\sigma$')\n",
    "ax.scatter(dirac_pt[:, 0], dirac_pt[:, 1], color='black', marker='+', s=50)\n",
    "ax.set_title('Dirac point (+)')\n",
    "ax.set_xlabel('X')\n",
    "ax.set_ylabel('Y')\n",
    "fig.savefig(os.path.join(pfp, 'scatterplot_dirac_pt.pdf'), bbox_inches='tight')"
   ]
  },
  {
   "cell_type": "markdown",
   "metadata": {},
   "source": [
    "# 2d\n",
    "\n",
    "## corr plot"
   ]
  },
  {
   "cell_type": "code",
   "execution_count": 179,
   "metadata": {},
   "outputs": [
    {
     "data": {
      "text/plain": [
       "DeepSet(\n",
       "  (feature_extractor): Sequential(\n",
       "    (0): Linear(in_features=2, out_features=50, bias=True)\n",
       "    (1): ELU(alpha=1.0, inplace=True)\n",
       "    (2): Linear(in_features=50, out_features=100, bias=True)\n",
       "    (3): ELU(alpha=1.0, inplace=True)\n",
       "    (4): Linear(in_features=100, out_features=36, bias=True)\n",
       "  )\n",
       "  (regressor): Sequential(\n",
       "    (0): Linear(in_features=36, out_features=30, bias=True)\n",
       "    (1): ELU(alpha=1.0, inplace=True)\n",
       "    (2): Linear(in_features=30, out_features=30, bias=True)\n",
       "    (3): ELU(alpha=1.0, inplace=True)\n",
       "    (4): Linear(in_features=30, out_features=10, bias=True)\n",
       "    (5): ELU(alpha=1.0, inplace=True)\n",
       "    (6): Linear(in_features=10, out_features=2, bias=True)\n",
       "  )\n",
       ")"
      ]
     },
     "execution_count": 179,
     "metadata": {},
     "output_type": "execute_result"
    }
   ],
   "source": [
    "# load 2D model\n",
    "model = DeepSet(2, 36).to(device)\n",
    "\n",
    "checkpoint = torch.load('/home/ngr4/project/dist_encoder/notebooks_and_pkl/normal_2D_flat2.pt')\n",
    "model.load_state_dict(checkpoint['model_state_dict'])\n",
    "\n",
    "model.eval()"
   ]
  },
  {
   "cell_type": "code",
   "execution_count": 189,
   "metadata": {},
   "outputs": [],
   "source": [
    "set_dist = []\n",
    "dist_type = []\n",
    "\n",
    "for i in range(5): \n",
    "    m = torch.distributions.multivariate_normal.MultivariateNormal(torch.zeros(2), torch.eye(2))\n",
    "    x = m.sample([250])\n",
    "    set_dist.append(x) \n",
    "    dist_type.append('Normal')\n",
    "    \n",
    "for i in range(5): \n",
    "    m = torch.distributions.multivariate_normal.MultivariateNormal(torch.tensor([0.0, 1.0]), torch.tensor([[1,.5],[.5,1]]))\n",
    "    x = m.sample([250])\n",
    "    set_dist.append(x)\n",
    "    dist_type.append('Normal')\n",
    "    \n",
    "for i in range(5): \n",
    "    m = torch.distributions.multivariate_normal.MultivariateNormal(torch.ones(2), covariance_matrix=torch.tensor([[.7,.1],[.1,1]]))\n",
    "    x = m.sample([250])\n",
    "    set_dist.append(x) \n",
    "    dist_type.append('Normal')\n",
    "    \n",
    "for i in range(5): \n",
    "    m = torch.distributions.multivariate_normal.MultivariateNormal(torch.tensor([1.0, 0.0]), torch.tensor([[.2, -.1], [-.1, 1]]))\n",
    "    x = m.sample([250])\n",
    "    set_dist.append(x) \n",
    "    dist_type.append('Normal')\n",
    "    \n",
    "for i in range(5): \n",
    "    m = torch.distributions.multivariate_normal.MultivariateNormal(torch.tensor([.5, .5]), torch.tensor([[.8,.4],[.4,1]]))\n",
    "    x = m.sample([250])\n",
    "    set_dist.append(x) \n",
    "    dist_type.append('Normal')\n",
    "    \n",
    "for i in range(5): \n",
    "    m = torch.distributions.multivariate_normal.MultivariateNormal(torch.tensor([-.25, -.5]), torch.eye(2)*.5)\n",
    "    x = m.sample([250])\n",
    "    set_dist.append(x) \n",
    "    dist_type.append('Normal')\n",
    "    \n",
    "set_dist = torch.stack(set_dist)"
   ]
  },
  {
   "cell_type": "code",
   "execution_count": 190,
   "metadata": {},
   "outputs": [],
   "source": [
    "fname = '2D distributions'\n",
    "\n",
    "results = pd.DataFrame()\n",
    "euclidean_dist = []\n",
    "wass_dist = []\n",
    "dist_comparison = []\n",
    "\n",
    "tic = time.time()\n",
    "for i in range(len(set_dist)):\n",
    "    for j in range(i+1,len(set_dist)):\n",
    "\n",
    "        euclidean_dist.append((torch.norm(model(set_dist[i, :, :].view(1, -1, 2))-model(set_dist[j, :, :].view(1, -1, 2)), p=2)).item())\n",
    "        wass_dist.append((sinkhorn(set_dist[i, :, :].view(1, -1, 2), set_dist[j, :, :].view(1, -1, 2))).item())\n",
    "        dist_comparison.append('{}-{}'.format(dist_type[i], dist_type[j]))\n",
    "    \n",
    "    if i%50==0 and i!=0:\n",
    "        print('... through {} iterations\\t{:.2f}-s elapsed'.format(i+1, time.time()-tic))\n",
    "        results = pd.DataFrame()\n",
    "        results['Euclidean distance'] = euclidean_dist\n",
    "        results['Wasserstein distance'] = wass_dist\n",
    "        results['Comparisons'] = dist_comparison\n",
    "        results.to_csv(os.path.join('/home/ngr4/project/dist_encoder/results/', 'results_{}.csv'.format(fname)))\n",
    "\n",
    "# store results\n",
    "results = pd.DataFrame()\n",
    "results['Euclidean distance'] = euclidean_dist\n",
    "results['Wasserstein distance'] = wass_dist\n",
    "results['Comparisons'] = dist_comparison\n",
    "results.to_csv(os.path.join('/home/ngr4/project/dist_encoder/results/', 'results_{}.csv'.format(fname)))\n",
    "        "
   ]
  },
  {
   "cell_type": "code",
   "execution_count": 191,
   "metadata": {},
   "outputs": [
    {
     "data": {
      "image/png": "[encoded data removed]",
      "text/plain": [
       "<Figure size 144x120.24 with 1 Axes>"
      ]
     },
     "metadata": {},
     "output_type": "display_data"
    }
   ],
   "source": [
    "# visualize comparisons\n",
    "fig, ax = plt.subplots(1, 1, figsize=(2, 1.67))\n",
    "sns.scatterplot(x='Euclidean distance',\n",
    "                y='Wasserstein distance',\n",
    "                hue='Comparisons',\n",
    "                data=results,\n",
    "                linewidth=0,\n",
    "                s=6,\n",
    "                palette=dist_pal,\n",
    "                alpha=1,\n",
    "                ax=ax,\n",
    "                rasterized=True)\n",
    "sns.regplot(x='Euclidean distance', \n",
    "            y='Wasserstein distance', \n",
    "            data=results, \n",
    "            x_estimator=None, x_bins=None, x_ci='ci', scatter=False, fit_reg=True, ci=95, \n",
    "            n_boot=1000, units=None, seed=None, order=1, logistic=False, lowess=False, robust=False, \n",
    "            logx=False, x_partial=None, y_partial=None, truncate=True, dropna=True, x_jitter=None, y_jitter=None, \n",
    "            label=None, color='k', marker='o', scatter_kws=None, line_kws=None, ax=ax)\n",
    "ax.legend(bbox_to_anchor=(1,1))\n",
    "\n",
    "# correlation\n",
    "r, p = stats.pearsonr(results['Euclidean distance'], results['Wasserstein distance'])\n",
    "ax.text(0.2,0.8,'$r={:.2f}$'.format(r), transform=ax.transAxes, ha='center')\n",
    "\n",
    "ax.set_title(fname)\n",
    "ax.set_ylabel('Wasserstein distance \\n(via Sinkhorn)', ha='center')\n",
    "ax.set_xlabel('Euclidean distance \\n(in embedded space)', ha='center')\n",
    "\n",
    "\n",
    "if savefigs:\n",
    "    fig.savefig(os.path.join(pfp, 'corr_plot_{}.pdf'.format(fname)), dpi=600, bbox_inches='tight')"
   ]
  },
  {
   "cell_type": "markdown",
   "metadata": {},
   "source": [
    "## circle thingy"
   ]
  },
  {
   "cell_type": "code",
   "execution_count": 86,
   "metadata": {},
   "outputs": [],
   "source": [
    "m = torch.distributions.multivariate_normal.MultivariateNormal(torch.zeros(2), torch.eye(2)*0.5).sample([250]).view(1, -1, 2)\n",
    "mprime = m + torch.tensor([0.5, 0.5])#torch.rand(1, 2)"
   ]
  },
  {
   "cell_type": "code",
   "execution_count": 111,
   "metadata": {},
   "outputs": [
    {
     "data": {
      "image/png": "[encoded data removed]",
      "text/plain": [
       "<Figure size 144x120.24 with 1 Axes>"
      ]
     },
     "metadata": {},
     "output_type": "display_data"
    }
   ],
   "source": [
    "fig, ax = plt.subplots(1, 1, figsize=(2, 1.67))\n",
    "ax.scatter(x, y, s=1, c=counter, cmap='RdYlBu_r')\n",
    "ax.set_title('Vectors for translations')\n",
    "# ax.set_xlabel(\"x\")\n",
    "# ax.set_ylabel(\"y\")\n",
    "fig.savefig(os.path.join(pfp, 'scatterplot_vectors_for_2d_translations.pdf'), bbox_inches='tight')"
   ]
  },
  {
   "cell_type": "code",
   "execution_count": 115,
   "metadata": {},
   "outputs": [
    {
     "name": "stderr",
     "output_type": "stream",
     "text": [
      "<ipython-input-115-d74cde3464d7>:18: MatplotlibDeprecationWarning: savefig() got unexpected keyword argument \"bbox_to_inches\" which is no longer supported as of 3.3 and will become an error two minor releases later\n",
      "  fig.savefig(os.path.join(pfp, 'scatterplot_2d_translations.pdf'), bbox_to_inches='tight')\n"
     ]
    },
    {
     "data": {
      "image/png": "[encoded data removed]",
      "text/plain": [
       "<Figure size 216x144 with 1 Axes>"
      ]
     },
     "metadata": {},
     "output_type": "display_data"
    }
   ],
   "source": [
    "r = 1\n",
    "n = 100\n",
    "randoms = np.linspace(0,2*np.pi,n)\n",
    "x,y = r*np.cos(randoms), r*np.sin(randoms)\n",
    "\n",
    "xy = np.empty((len(randoms), 2))\n",
    "counter = []\n",
    "for i in range(len(randoms)):\n",
    "    counter.append(i)\n",
    "    xy[i, :] = model(m+torch.tensor([x[i],y[i]], dtype=torch.float)).detach().numpy()\n",
    "    \n",
    "fig, ax = plt.subplots(1, 1, figsize=(3, 2))\n",
    "ax.scatter(model(m).detach()[:, 0][0], model(m).detach()[:, 1], color='k', s=24)\n",
    "ax.scatter(xy[:, 0], xy[:, 1], c=counter, cmap='RdYlBu_r', s=6)\n",
    "ax.set_xlabel('X')\n",
    "ax.set_ylabel('Y')\n",
    "ax.set_title('Embedded translated samples')\n",
    "fig.savefig(os.path.join(pfp, 'scatterplot_2d_translations.pdf'), bbox_to_inches='tight')"
   ]
  },
  {
   "cell_type": "code",
   "execution_count": 173,
   "metadata": {},
   "outputs": [
    {
     "data": {
      "image/png": "[encoded data removed]",
      "text/plain": [
       "<Figure size 144x120.24 with 2 Axes>"
      ]
     },
     "metadata": {},
     "output_type": "display_data"
    }
   ],
   "source": [
    "fig, ax = plt.subplots(1,1,figsize=(2, 1.67))\n",
    "H, xbins, ybins = np.histogram2d(m[:, :, 0].view(-1).numpy(), m[:, :, 1].view(-1).numpy(), bins=10)\n",
    "im = ax.imshow(H, origin='lower', cmap='coolwarm', \n",
    "               vmin=0, vmax=15)\n",
    "ax.set_xticks([])\n",
    "ax.set_yticks([])\n",
    "fig.colorbar(im,  pad=0, )\n",
    "ax.set_title('Samples from 2D\\nNormal Distribution', ha='center')\n",
    "if savefigs:\n",
    "    fig.savefig(os.path.join(pfp, 'imshow_no_translation.pdf'))"
   ]
  },
  {
   "cell_type": "code",
   "execution_count": 174,
   "metadata": {},
   "outputs": [
    {
     "name": "stdout",
     "output_type": "stream",
     "text": [
      "1.0 -2.4492935982947064e-16\n"
     ]
    },
    {
     "data": {
      "image/png": "[encoded data removed]",
      "text/plain": [
       "<Figure size 144x120.24 with 2 Axes>"
      ]
     },
     "metadata": {},
     "output_type": "display_data"
    }
   ],
   "source": [
    "fig, ax = plt.subplots(1, 1, figsize=(2, 1.67))\n",
    "sample = m + torch.tensor([0,1], dtype=torch.float)\n",
    "print(x[-1], y[-1])\n",
    "im = ax.imshow(np.histogram2d(sample[:, :, 0].view(-1).numpy(), sample[:, :, 1].view(-1).numpy(),\n",
    "                          [xbins, ybins])[0],\n",
    "           origin='lower', cmap='coolwarm', \n",
    "               vmin=0, vmax=15)\n",
    "fig.colorbar(im,  pad=0,)\n",
    "ax.set_xticks([])\n",
    "ax.set_yticks([])\n",
    "ax.set_title('$\\pi$ / 2 translation')\n",
    "if savefigs:\n",
    "    fig.savefig(os.path.join(pfp, 'imshow_0.5pi_translation.pdf'))"
   ]
  },
  {
   "cell_type": "code",
   "execution_count": 178,
   "metadata": {},
   "outputs": [
    {
     "name": "stdout",
     "output_type": "stream",
     "text": [
      "1.0 -2.4492935982947064e-16\n"
     ]
    },
    {
     "data": {
      "image/png": "[encoded data removed]",
      "text/plain": [
       "<Figure size 144x120.24 with 2 Axes>"
      ]
     },
     "metadata": {},
     "output_type": "display_data"
    }
   ],
   "source": [
    "fig, ax = plt.subplots(1, 1, figsize=(2, 1.67))\n",
    "sample = m + torch.tensor([-1,0], dtype=torch.float)\n",
    "print(x[-1], y[-1])\n",
    "im = ax.imshow(np.histogram2d(sample[:, :, 0].view(-1).numpy(), sample[:, :, 1].view(-1).numpy(),\n",
    "                          [xbins, ybins])[0],\n",
    "           origin='lower', cmap='coolwarm',\n",
    "               vmin=0, vmax=15)\n",
    "fig.colorbar(im,  pad=0, )\n",
    "ax.set_xticks([])\n",
    "ax.set_yticks([])\n",
    "ax.set_title('$\\pi$ translation')\n",
    "if savefigs:\n",
    "    fig.savefig(os.path.join(pfp, 'imshow_pi_translation.pdf'))"
   ]
  },
  {
   "cell_type": "code",
   "execution_count": 177,
   "metadata": {},
   "outputs": [
    {
     "data": {
      "image/png": "[encoded data removed]",
      "text/plain": [
       "<Figure size 144x120.24 with 2 Axes>"
      ]
     },
     "metadata": {},
     "output_type": "display_data"
    }
   ],
   "source": [
    "fig, ax = plt.subplots(1, 1, figsize=(2, 1.67))\n",
    "sample = m + torch.tensor([1,0], dtype=torch.float)\n",
    "im = ax.imshow(np.histogram2d(sample[:, :, 0].view(-1).numpy(), sample[:, :, 1].view(-1).numpy(),\n",
    "                          [xbins, ybins])[0],\n",
    "           origin='lower', cmap='coolwarm',\n",
    "               vmin=0, vmax=15)\n",
    "fig.colorbar(im,  pad=0, )\n",
    "ax.set_xticks([])\n",
    "ax.set_yticks([])\n",
    "ax.set_title('2$\\pi$ translation')\n",
    "if savefigs:\n",
    "    fig.savefig(os.path.join(pfp, 'imshow_2pi_translation.pdf'))"
   ]
  },
  {
   "cell_type": "markdown",
   "metadata": {},
   "source": [
    "## 1D barycenter"
   ]
  },
  {
   "cell_type": "code",
   "execution_count": 327,
   "metadata": {},
   "outputs": [
    {
     "data": {
      "text/plain": [
       "DeepSet(\n",
       "  (feature_extractor): Sequential(\n",
       "    (0): Linear(in_features=1, out_features=50, bias=True)\n",
       "    (1): ELU(alpha=1.0, inplace=True)\n",
       "    (2): Linear(in_features=50, out_features=100, bias=True)\n",
       "    (3): ELU(alpha=1.0, inplace=True)\n",
       "    (4): Linear(in_features=100, out_features=36, bias=True)\n",
       "  )\n",
       "  (regressor): Sequential(\n",
       "    (0): Linear(in_features=36, out_features=30, bias=True)\n",
       "    (1): ELU(alpha=1.0, inplace=True)\n",
       "    (2): Linear(in_features=30, out_features=30, bias=True)\n",
       "    (3): ELU(alpha=1.0, inplace=True)\n",
       "    (4): Linear(in_features=30, out_features=10, bias=True)\n",
       "    (5): ELU(alpha=1.0, inplace=True)\n",
       "    (6): Linear(in_features=10, out_features=2, bias=True)\n",
       "  )\n",
       ")"
      ]
     },
     "execution_count": 327,
     "metadata": {},
     "output_type": "execute_result"
    }
   ],
   "source": [
    "# initialize 1d model\n",
    "\n",
    "device = torch.device('cuda' if torch.cuda.is_available() else 'cpu')\n",
    "model = DeepSet(1, 36).to(device)\n",
    "sinkhorn = SinkhornDistance(eps=0.1, max_iter=100, reduction=None).to(device)\n",
    "\n",
    "model.load_state_dict(torch.load(os.path.join('/home/ngr4/project/dist_encoder/notebooks_and_pkl/', 'deepset_dist_flat6.pkl')))\n",
    "model.eval()"
   ]
  },
  {
   "cell_type": "code",
   "execution_count": 364,
   "metadata": {},
   "outputs": [],
   "source": [
    "import numpy as np\n",
    "import matplotlib.pyplot as plt\n",
    "from sklearn.neighbors import KernelDensity  # display as density curves\n",
    "import torch\n",
    "from geomloss import SamplesLoss"
   ]
  },
  {
   "cell_type": "code",
   "execution_count": 365,
   "metadata": {},
   "outputs": [],
   "source": [
    "N, M = (100, 100)\n",
    "t_i = torch.linspace(0, 1, M).view(-1,1)\n",
    "t_j = torch.linspace(0, 1, M).view(-1,1)\n",
    "X_i, Y_j  = .1 * t_i, .2 * t_j + .8  # Intervals [0., 0.1] and [.8, 1.]\n",
    "t_k = torch.linspace(0, 1, N).view(-1,1)\n",
    "Z_k = t_k"
   ]
  },
  {
   "cell_type": "code",
   "execution_count": 366,
   "metadata": {},
   "outputs": [],
   "source": [
    "# models\n",
    "\n",
    "class Barycenter(nn.Module):\n",
    "    \"\"\"Abstract model for the computation of Sinkhorn barycenters.\"\"\"\n",
    "\n",
    "    def __init__(self, loss, w=.5):\n",
    "        super(Barycenter, self).__init__()\n",
    "        self.loss = loss   # Sinkhorn divergence to optimize\n",
    "        self.w = w         # Interpolation coefficient\n",
    "        # We copy the reference starting points, to prevent in-place modification:\n",
    "        self.x_i, self.y_j, self.z_k = X_i.clone(), Y_j.clone(), Z_k.clone()\n",
    "\n",
    "    def fit(self, display=False, tol=1e-10):\n",
    "        \"\"\"Uses a custom wrapper around the scipy.optimize module.\"\"\"\n",
    "        fit_model(self, method = \"L-BFGS\", lr = 1., display = display, tol=tol, gtol=tol)\n",
    "\n",
    "    def weights(self):\n",
    "        \"\"\"The default weights are uniform, equal to 1/N.\"\"\"\n",
    "        return (torch.ones(len(self.z_k)) / len(self.z_k)).type_as(self.z_k)\n",
    "\n",
    "    def plot(self, nit=0, cost=0, ax=None, title=None):\n",
    "        \"\"\"Displays the descent using a custom 'waffle' layout.\n",
    "\n",
    "        N.B.: As the L-BFGS descent typically induces high-frequencies in\n",
    "              the optimization process, we blur the 'interpolating' measure\n",
    "              a little bit more than the two endpoints.\n",
    "        \"\"\"\n",
    "        if ax is None:\n",
    "            if nit == 0 or nit % 16 == 4:\n",
    "                plt.pause(.01)\n",
    "                plt.figure(figsize=(16,4))\n",
    "\n",
    "            if nit <= 4 or nit % 4 == 0:\n",
    "                if nit < 4: index = nit + 1\n",
    "                else:       index = (nit//4 - 1) % 4 + 1\n",
    "                ax = plt.subplot(1,4, index)\n",
    "\n",
    "        if ax is not None:\n",
    "            display_samples(ax, self.x_i, (.95,.55,.55))\n",
    "            display_samples(ax, self.y_j, (.55,.55,.95))\n",
    "            display_samples(ax, self.z_k, (.55,.95,.55), weights = self.weights(), blur=.005)\n",
    "\n",
    "            if title is None:\n",
    "                ax.set_title(\"nit = {}, cost = {:3.4f}\".format(nit, cost))\n",
    "            else:\n",
    "                ax.set_title(title)\n",
    "\n",
    "            ax.axis([-.1,1.1,-.1,20.5])\n",
    "            ax.set_xticks([], []); ax.set_yticks([], [])\n",
    "            plt.tight_layout()\n",
    "\n",
    "\n",
    "class EulerianBarycenter(Barycenter) :\n",
    "    \"\"\"Barycentric model with fixed locations z_k, as we optimize on the log-weights l_k.\"\"\"\n",
    "    def __init__(self, loss, w=.5) :\n",
    "        super(EulerianBarycenter, self).__init__(loss, w)\n",
    "\n",
    "        # We're going to work with variable weights, so we should explicitely\n",
    "        # define the (uniform) weights on the \"endpoint\" samples:\n",
    "        self.a_i = (torch.ones(len(self.x_i)) / len(self.x_i)).type_as(self.x_i)\n",
    "        self.b_j = (torch.ones(len(self.y_j)) / len(self.y_j)).type_as(self.y_j)\n",
    "\n",
    "        # Our parameter to optimize: the logarithms of our weights\n",
    "        self.l_k = nn.Parameter( torch.zeros(len(self.z_k)).type_as(self.z_k) )\n",
    "\n",
    "    def weights(self):\n",
    "        \"\"\"Turns the l_k's into the weights of a positive probabilty measure.\"\"\"\n",
    "        return torch.nn.functional.softmax(self.l_k, dim=0)\n",
    "\n",
    "    def forward(self) :\n",
    "        \"\"\"Returns the cost to minimize.\"\"\"\n",
    "        c_k  = self.weights()\n",
    "        return self.w  * self.loss(c_k, self.z_k, self.a_i, self.x_i) \\\n",
    "        + (1 - self.w) * self.loss(c_k, self.z_k, self.b_j, self.y_j)"
   ]
  },
  {
   "cell_type": "code",
   "execution_count": 367,
   "metadata": {},
   "outputs": [],
   "source": [
    "EB = EulerianBarycenter( SamplesLoss(\"sinkhorn\", p=1, blur=.01, scaling=.9) )"
   ]
  },
  {
   "cell_type": "code",
   "execution_count": 368,
   "metadata": {},
   "outputs": [
    {
     "ename": "NameError",
     "evalue": "name 'fit_model' is not defined",
     "output_type": "error",
     "traceback": [
      "\u001b[0;31m---------------------------------------------------------------------------\u001b[0m",
      "\u001b[0;31mNameError\u001b[0m                                 Traceback (most recent call last)",
      "\u001b[0;32m<ipython-input-368-8570d3e24eca>\u001b[0m in \u001b[0;36m<module>\u001b[0;34m\u001b[0m\n\u001b[0;32m----> 1\u001b[0;31m \u001b[0mEB\u001b[0m\u001b[0;34m.\u001b[0m\u001b[0mfit\u001b[0m\u001b[0;34m(\u001b[0m\u001b[0mdisplay\u001b[0m\u001b[0;34m=\u001b[0m\u001b[0;32mTrue\u001b[0m\u001b[0;34m)\u001b[0m\u001b[0;34m\u001b[0m\u001b[0;34m\u001b[0m\u001b[0m\n\u001b[0m",
      "\u001b[0;32m<ipython-input-366-d2007c7fbbaa>\u001b[0m in \u001b[0;36mfit\u001b[0;34m(self, display, tol)\u001b[0m\n\u001b[1;32m     13\u001b[0m     \u001b[0;32mdef\u001b[0m \u001b[0mfit\u001b[0m\u001b[0;34m(\u001b[0m\u001b[0mself\u001b[0m\u001b[0;34m,\u001b[0m \u001b[0mdisplay\u001b[0m\u001b[0;34m=\u001b[0m\u001b[0;32mFalse\u001b[0m\u001b[0;34m,\u001b[0m \u001b[0mtol\u001b[0m\u001b[0;34m=\u001b[0m\u001b[0;36m1e-10\u001b[0m\u001b[0;34m)\u001b[0m\u001b[0;34m:\u001b[0m\u001b[0;34m\u001b[0m\u001b[0;34m\u001b[0m\u001b[0m\n\u001b[1;32m     14\u001b[0m         \u001b[0;34m\"\"\"Uses a custom wrapper around the scipy.optimize module.\"\"\"\u001b[0m\u001b[0;34m\u001b[0m\u001b[0;34m\u001b[0m\u001b[0m\n\u001b[0;32m---> 15\u001b[0;31m         \u001b[0mfit_model\u001b[0m\u001b[0;34m(\u001b[0m\u001b[0mself\u001b[0m\u001b[0;34m,\u001b[0m \u001b[0mmethod\u001b[0m \u001b[0;34m=\u001b[0m \u001b[0;34m\"L-BFGS\"\u001b[0m\u001b[0;34m,\u001b[0m \u001b[0mlr\u001b[0m \u001b[0;34m=\u001b[0m \u001b[0;36m1.\u001b[0m\u001b[0;34m,\u001b[0m \u001b[0mdisplay\u001b[0m \u001b[0;34m=\u001b[0m \u001b[0mdisplay\u001b[0m\u001b[0;34m,\u001b[0m \u001b[0mtol\u001b[0m\u001b[0;34m=\u001b[0m\u001b[0mtol\u001b[0m\u001b[0;34m,\u001b[0m \u001b[0mgtol\u001b[0m\u001b[0;34m=\u001b[0m\u001b[0mtol\u001b[0m\u001b[0;34m)\u001b[0m\u001b[0;34m\u001b[0m\u001b[0;34m\u001b[0m\u001b[0m\n\u001b[0m\u001b[1;32m     16\u001b[0m \u001b[0;34m\u001b[0m\u001b[0m\n\u001b[1;32m     17\u001b[0m     \u001b[0;32mdef\u001b[0m \u001b[0mweights\u001b[0m\u001b[0;34m(\u001b[0m\u001b[0mself\u001b[0m\u001b[0;34m)\u001b[0m\u001b[0;34m:\u001b[0m\u001b[0;34m\u001b[0m\u001b[0;34m\u001b[0m\u001b[0m\n",
      "\u001b[0;31mNameError\u001b[0m: name 'fit_model' is not defined"
     ]
    }
   ],
   "source": [
    "EB.fit(display=True)"
   ]
  },
  {
   "cell_type": "code",
   "execution_count": null,
   "metadata": {},
   "outputs": [],
   "source": []
  }
 ],
 "metadata": {
  "kernelspec": {
   "display_name": "Python 3",
   "language": "python",
   "name": "python3"
  },
  "language_info": {
   "codemirror_mode": {
    "name": "ipython",
    "version": 3
   },
   "file_extension": ".py",
   "mimetype": "text/x-python",
   "name": "python",
   "nbconvert_exporter": "python",
   "pygments_lexer": "ipython3",
   "version": "3.8.5"
  }
 },
 "nbformat": 4,
 "nbformat_minor": 4
}
